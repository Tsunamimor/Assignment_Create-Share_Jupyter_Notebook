{
 "cells": [
  {
   "cell_type": "markdown",
   "id": "025e6057-9164-48e1-9ffc-9f72eab16b50",
   "metadata": {},
   "source": [
    "# Data Science Tools and Ecosystem"
   ]
  },
  {
   "cell_type": "markdown",
   "id": "7568f546-c945-41ad-9535-af8371cc10cf",
   "metadata": {},
   "source": [
    "## Author:\n",
    "Paddy McPhillips"
   ]
  },
  {
   "cell_type": "markdown",
   "id": "c4e46941-fcc5-4e9c-8d19-a251a6c5b6ab",
   "metadata": {},
   "source": [
    "In this notebook, Data Science Tools and Ecosystem are summarized."
   ]
  },
  {
   "cell_type": "markdown",
   "id": "56f2bd2b-606f-4a8c-8988-31a65ebae3a9",
   "metadata": {},
   "source": [
    "**Objectives:**\n",
    "- Show example tools and Libraries\n",
    "- Demonstrate how to add Markdown and Code cells in Jupyter Notebooks\n",
    "- Demonstrate how to generate unordered and ordered lists in markdown\n",
    "- List some commonly used tools in Data Science\n",
    "- List some commonly used libraries in Data Science"
   ]
  },
  {
   "cell_type": "markdown",
   "id": "c780f433-1ae7-47f6-a3e8-c21e7166a794",
   "metadata": {},
   "source": [
    "Some of the popular languages that Data Scientists use are:\n",
    "1. R\n",
    "2. Python\n",
    "3. SQL\n",
    "4. Scala\n",
    "5. Java\n",
    "6. C++\n",
    "7. Julia"
   ]
  },
  {
   "attachments": {},
   "cell_type": "markdown",
   "id": "2d78184a-66ed-41f7-bcaa-22003e72d85d",
   "metadata": {},
   "source": [
    "Some of the commonly used libraries used by Data Scientists include:\n",
    "1. Pandas\n",
    "2. NumPy\n",
    "3. SciPy\n",
    "4. Matplotlib\n",
    "5. Seaborn\n",
    "6. Tensorflow\n",
    "7. PyTorch"
   ]
  },
  {
   "cell_type": "markdown",
   "id": "6ac2d6b2-2389-421b-a424-4bc021728920",
   "metadata": {},
   "source": [
    "| Data Science Tools |\n",
    "| -------------------|\n",
    "| R Studio |\n",
    "| Visual Studio Code |\n",
    "| Jupyter Notebook |\n",
    "| Apache Spark |"
   ]
  },
  {
   "cell_type": "markdown",
   "id": "1d0001bb-1b5a-4553-8b8d-3c3c677741f9",
   "metadata": {},
   "source": [
    "Below are a few examples of evaluating arithmetic expressions in Python"
   ]
  },
  {
   "cell_type": "code",
   "execution_count": 13,
   "id": "0c1527bc-7003-463e-817c-b28abac08ed3",
   "metadata": {},
   "outputs": [
    {
     "data": {
      "text/plain": [
       "17"
      ]
     },
     "execution_count": 13,
     "metadata": {},
     "output_type": "execute_result"
    }
   ],
   "source": [
    "#  This a simple arithmetic expression to mutiply then add integers\n",
    "(3*4)+5"
   ]
  },
  {
   "cell_type": "code",
   "execution_count": 19,
   "id": "dfc69d08-2ce4-446f-a33f-06e16090f0a1",
   "metadata": {},
   "outputs": [
    {
     "name": "stdout",
     "output_type": "stream",
     "text": [
      "200 minutes equals 3.3333333333333335 hours.\n"
     ]
    }
   ],
   "source": [
    "# This will convert 200 minutes to hours by diving by 60\n",
    "\n",
    "# Number of minutes\n",
    "minutes = 200\n",
    "\n",
    "# Convert min to hours\n",
    "hours = minutes / 60\n",
    "\n",
    "# Result\n",
    "print(f\"{minutes} minutes equals {hours} hours.\")\n"
   ]
  },
  {
   "cell_type": "code",
   "execution_count": null,
   "id": "bd5be0f0-3c16-414f-a906-404a75651e83",
   "metadata": {},
   "outputs": [],
   "source": []
  }
 ],
 "metadata": {
  "kernelspec": {
   "display_name": "Python 3 (ipykernel)",
   "language": "python",
   "name": "python3"
  },
  "language_info": {
   "codemirror_mode": {
    "name": "ipython",
    "version": 3
   },
   "file_extension": ".py",
   "mimetype": "text/x-python",
   "name": "python",
   "nbconvert_exporter": "python",
   "pygments_lexer": "ipython3",
   "version": "3.12.4"
  }
 },
 "nbformat": 4,
 "nbformat_minor": 5
}
